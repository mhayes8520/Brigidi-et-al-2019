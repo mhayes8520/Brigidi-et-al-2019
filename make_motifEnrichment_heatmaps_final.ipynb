{
 "cells": [
  {
   "cell_type": "code",
   "execution_count": 1,
   "metadata": {},
   "outputs": [],
   "source": [
    "import pandas as pd \n",
    "import numpy as np\n",
    "import seaborn as sns\n",
    "import matplotlib.pyplot as plt\n",
    "import re\n",
    "%matplotlib inline\n",
    "\n",
    "plt.rcParams['figure.figsize'] = [10, 15]"
   ]
  },
  {
   "cell_type": "code",
   "execution_count": 3,
   "metadata": {},
   "outputs": [],
   "source": [
    "c1_motifs = pd.read_csv(\"mknown_results/Motifs-arnt-arnt2_signal-at_all-Npas4-peaks_fileSortedRegions-K7-1_cluster-1.txt/knownResults.txt\", sep = \"\\t\")\n",
    "c2_motifs = pd.read_csv(\"mknown_results/Motifs-arnt-arnt2_signal-at_all-Npas4-peaks_fileSortedRegions-K7-1_cluster-2.txt/knownResults.txt\", sep = \"\\t\")\n",
    "c3_motifs = pd.read_csv(\"mknown_results/Motifs-arnt-arnt2_signal-at_all-Npas4-peaks_fileSortedRegions-K7-1_cluster-3.txt/knownResults.txt\", sep = \"\\t\")\n",
    "c4_motifs = pd.read_csv(\"mknown_results/Motifs-arnt-arnt2_signal-at_all-Npas4-peaks_fileSortedRegions-K7-1_cluster-4.txt/knownResults.txt\", sep = \"\\t\")\n",
    "c5_motifs = pd.read_csv(\"mknown_results/Motifs-arnt-arnt2_signal-at_all-Npas4-peaks_fileSortedRegions-K7-1_cluster-5.txt/knownResults.txt\", sep = \"\\t\")\n",
    "c6_motifs = pd.read_csv(\"mknown_results/Motifs-arnt-arnt2_signal-at_all-Npas4-peaks_fileSortedRegions-K7-1_cluster-6.txt/knownResults.txt\", sep = \"\\t\")\n",
    "c7_motifs = pd.read_csv(\"mknown_results/Motifs-arnt-arnt2_signal-at_all-Npas4-peaks_fileSortedRegions-K7-1_cluster-7.txt/knownResults.txt\", sep = \"\\t\")\n"
   ]
  },
  {
   "cell_type": "code",
   "execution_count": 4,
   "metadata": {},
   "outputs": [],
   "source": [
    "#make array of motif enrichment tables\n",
    "c_motifs = [c1_motifs, c2_motifs, c3_motifs, c4_motifs, c5_motifs, c6_motifs, c7_motifs]"
   ]
  },
  {
   "cell_type": "code",
   "execution_count": 5,
   "metadata": {},
   "outputs": [],
   "source": [
    "for i,df in enumerate(c_motifs):\n",
    "    df[\"% of Target Sequences with Motif\"] = df[\"% of Target Sequences with Motif\"].map(lambda pct_str:float(pct_str[:-1]))\n",
    "    df[\"% of Background Sequences with Motif\"] = df[\"% of Background Sequences with Motif\"].map(lambda pct_str:float(pct_str[:-1]))\n",
    "    df[\"target minus background\"] = df[\"% of Target Sequences with Motif\"] - df[\"% of Background Sequences with Motif\"]\n",
    "    df[\"target over background\"] = df[\"% of Target Sequences with Motif\"] / df[\"% of Background Sequences with Motif\"]\n",
    "    df = df.sort_values(by=[\"Motif Name\"])\n",
    "    df[\"index\"] = df[\"Motif Name\"]\n",
    "    df = df.set_index(\"index\")\n",
    "    \n",
    "    c_motifs[i] = df\n",
    "    "
   ]
  },
  {
   "cell_type": "code",
   "execution_count": 6,
   "metadata": {},
   "outputs": [],
   "source": [
    "d_diff = {'cluster '+str(i+1) : list(c_motifs[i][\"target minus background\"]) for i in range(len(c_motifs))}"
   ]
  },
  {
   "cell_type": "code",
   "execution_count": 8,
   "metadata": {},
   "outputs": [],
   "source": [
    "diff = pd.DataFrame(data = d_diff, index = list(c_motifs[0][\"Motif Name\"]))"
   ]
  },
  {
   "cell_type": "code",
   "execution_count": 11,
   "metadata": {},
   "outputs": [
    {
     "data": {
      "image/png": "[encoded data removed]",
      "text/plain": [
       "<Figure size 720x720 with 4 Axes>"
      ]
     },
     "metadata": {},
     "output_type": "display_data"
    }
   ],
   "source": [
    "ax = sns.clustermap(diff, z_score = 0)\n",
    "ax.savefig('target_minus_bg_clustered_Motifs_fromNpas4Clusters_heatmap.pdf')"
   ]
  },
  {
   "cell_type": "code",
   "execution_count": null,
   "metadata": {},
   "outputs": [],
   "source": []
  }
 ],
 "metadata": {
  "kernelspec": {
   "display_name": "Python 3",
   "language": "python",
   "name": "python3"
  },
  "language_info": {
   "codemirror_mode": {
    "name": "ipython",
    "version": 3
   },
   "file_extension": ".py",
   "mimetype": "text/x-python",
   "name": "python",
   "nbconvert_exporter": "python",
   "pygments_lexer": "ipython3",
   "version": "3.6.5"
  }
 },
 "nbformat": 4,
 "nbformat_minor": 2
}
